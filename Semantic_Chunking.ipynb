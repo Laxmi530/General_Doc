{
 "cells": [
  {
   "cell_type": "markdown",
   "metadata": {},
   "source": [
    "### Chunking\n",
    "- LAnguage models do better when you increase the signal to noise ratio \n",
    "- Distracting information in the models context window does tend to measurabelly destroy the performance of the overall application.\n",
    "- The act of gathering the right information for the LLM is called retrival.\n",
    "- [YouTube video link](https://www.youtube.com/watch?v=8OJC21T2SL4) \n",
    "- [Semantic Chunking NoteBook](https://github.com/FullStackRetrieval-com/RetrievalTutorials/blob/main/tutorials/LevelsOfTextSplitting/5_Levels_Of_Text_Splitting.ipynb)\n",
    "- [Medium Semantic Chunking](https://medium.com/the-ai-forum/semantic-chunking-for-rag-f4733025d5f5)"
   ]
  },
  {
   "cell_type": "code",
   "execution_count": null,
   "metadata": {},
   "outputs": [],
   "source": [
    "from langchain.document_loaders import PyPDFLoader\n",
    "from langchain.text_splitter import RecursiveCharacterTextSplitter\n",
    "from langchain_huggingface import HuggingFaceEmbeddings\n",
    "from Semantic_Chunking import SemanticChunker\n",
    "from langchain_community.vectorstores import FAISS\n",
    "\n",
    "import torch\n",
    "\n",
    "device = 'cuda' if torch.cuda.is_available() else 'cpu'"
   ]
  },
  {
   "cell_type": "code",
   "execution_count": null,
   "metadata": {},
   "outputs": [],
   "source": [
    "model_e5_large_path = r'D:\\AI Models\\intfloat multilingual-e5-large'\n",
    "model_kwargs = {'device':device}\n",
    "embedding = HuggingFaceEmbeddings(model_name=model_e5_large_path, model_kwargs = model_kwargs)"
   ]
  },
  {
   "cell_type": "code",
   "execution_count": null,
   "metadata": {},
   "outputs": [],
   "source": [
    "loader = PyPDFLoader(r\"C:\\Users\\laxmidhar.routa\\Downloads\\1810.04805v2.pdf\")\n",
    "documents = loader.load()\n",
    "\n",
    "with open(r'C:\\Users\\laxmidhar.routa\\Downloads\\mit.txt') as file:\n",
    "    essay = file.read()"
   ]
  },
  {
   "cell_type": "code",
   "execution_count": null,
   "metadata": {},
   "outputs": [],
   "source": [
    "text_splitter = RecursiveCharacterTextSplitter(chunk_size=1000,chunk_overlap=0,length_function=len,is_separator_regex=False)\n",
    "naive_chunks = text_splitter.split_documents(documents)"
   ]
  },
  {
   "cell_type": "code",
   "execution_count": null,
   "metadata": {},
   "outputs": [],
   "source": [
    "semantic_chunker = SemanticChunker(embedding, breakpoint_threshold_type=\"percentile\")\n",
    "semantic_chunks = semantic_chunker.create_documents([d.page_content for d in documents])"
   ]
  },
  {
   "cell_type": "code",
   "execution_count": null,
   "metadata": {},
   "outputs": [],
   "source": [
    "len(semantic_chunks)"
   ]
  },
  {
   "cell_type": "code",
   "execution_count": null,
   "metadata": {},
   "outputs": [],
   "source": [
    "semantic_chunk_vectorstore = FAISS.from_documents(semantic_chunks, embedding)\n",
    "naive_chunk_vectorstore = FAISS.from_documents(naive_chunks, embedding)"
   ]
  },
  {
   "cell_type": "code",
   "execution_count": null,
   "metadata": {},
   "outputs": [],
   "source": [
    "semantic_chunk_retriever = semantic_chunk_vectorstore.as_retriever(search_kwargs={\"k\" : 1})\n",
    "semantic_chunk_retriever.invoke(\"Describe the Feature-based Approach with BERT?\")"
   ]
  },
  {
   "cell_type": "code",
   "execution_count": null,
   "metadata": {},
   "outputs": [],
   "source": [
    "naive_chunk_retriever = naive_chunk_vectorstore.as_retriever(search_kwargs={\"k\" : 1})\n",
    "naive_chunk_retriever.invoke(\"Describe the Feature-based Approach with BERT?\")"
   ]
  },
  {
   "cell_type": "code",
   "execution_count": null,
   "metadata": {},
   "outputs": [],
   "source": []
  }
 ],
 "metadata": {
  "kernelspec": {
   "display_name": "Python 3",
   "language": "python",
   "name": "python3"
  },
  "language_info": {
   "codemirror_mode": {
    "name": "ipython",
    "version": 3
   },
   "file_extension": ".py",
   "mimetype": "text/x-python",
   "name": "python",
   "nbconvert_exporter": "python",
   "pygments_lexer": "ipython3",
   "version": "3.12.7"
  }
 },
 "nbformat": 4,
 "nbformat_minor": 2
}
